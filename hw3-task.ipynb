{
 "cells": [
  {
   "cell_type": "markdown",
   "metadata": {},
   "source": [
    "# HW-3 (<a href=\"https://www.kaggle.com/c/sfmlo-7-classification\">Kaggle task</a>)\n",
    "#### Команда №3\n",
    "#### Состав команды:\n",
    "\n",
    "    Kyrylo Prykhno         as Kyrylo Prykhno\n",
    "    Александр              as Alexander\n",
    "    Алексей Совит          as A.Sovit\n",
    "    Александра Гринцвайг   as ALEXANDRA GRINTSVAYG\n",
    "    Марат Нуртас\t\n",
    "    Александр Аверичев\t\n",
    "    Александр Святкин      as Alexander Svyatkin\n",
    "    Евгений Гаврилов       as un1qstyle\n",
    "    Виктор Верниковский\t"
   ]
  },
  {
   "cell_type": "code",
   "execution_count": 1,
   "metadata": {},
   "outputs": [],
   "source": [
    "# подключаем библиотеки\n",
    "\n",
    "import pandas as pd\n",
    "import numpy as np\n",
    "import matplotlib.pyplot as plt\n",
    "from io import StringIO\n",
    "from IPython.display import Image\n",
    "\n",
    "%matplotlib inline\n",
    "\n",
    "plt.style.use('ggplot')\n",
    "plt.rcParams['figure.figsize'] = (18,12)"
   ]
  },
  {
   "cell_type": "markdown",
   "metadata": {},
   "source": [
    "### Данные задачи"
   ]
  },
  {
   "cell_type": "code",
   "execution_count": 232,
   "metadata": {},
   "outputs": [],
   "source": [
    "# читаем данные для обучения и для теста\n",
    "#\n",
    "df_train = pd.read_csv('data/train.csv')\n",
    "\n",
    "df_test1 = pd.read_csv('data/test.csv')\n",
    "df_test_y = pd.read_csv('data/sample_submission.csv')\n",
    "\n",
    "df_test = df_test1.merge(df_test_y, on='_id', how='left')\n",
    "\n"
   ]
  },
  {
   "cell_type": "code",
   "execution_count": 233,
   "metadata": {},
   "outputs": [
    {
     "data": {
      "text/plain": [
       "(24712, 22)"
      ]
     },
     "execution_count": 233,
     "metadata": {},
     "output_type": "execute_result"
    }
   ],
   "source": [
    "# посмотрим учебные данные\n",
    "df_train.shape"
   ]
  },
  {
   "cell_type": "code",
   "execution_count": 234,
   "metadata": {},
   "outputs": [
    {
     "data": {
      "text/html": [
       "<div>\n",
       "<style scoped>\n",
       "    .dataframe tbody tr th:only-of-type {\n",
       "        vertical-align: middle;\n",
       "    }\n",
       "\n",
       "    .dataframe tbody tr th {\n",
       "        vertical-align: top;\n",
       "    }\n",
       "\n",
       "    .dataframe thead th {\n",
       "        text-align: right;\n",
       "    }\n",
       "</style>\n",
       "<table border=\"1\" class=\"dataframe\">\n",
       "  <thead>\n",
       "    <tr style=\"text-align: right;\">\n",
       "      <th></th>\n",
       "      <th>_id</th>\n",
       "      <th>age</th>\n",
       "      <th>job</th>\n",
       "      <th>marital</th>\n",
       "      <th>education</th>\n",
       "      <th>default</th>\n",
       "      <th>housing</th>\n",
       "      <th>loan</th>\n",
       "      <th>contact</th>\n",
       "      <th>month</th>\n",
       "      <th>...</th>\n",
       "      <th>campaign</th>\n",
       "      <th>pdays</th>\n",
       "      <th>previous</th>\n",
       "      <th>poutcome</th>\n",
       "      <th>emp.var.rate</th>\n",
       "      <th>cons.price.idx</th>\n",
       "      <th>cons.conf.idx</th>\n",
       "      <th>euribor3m</th>\n",
       "      <th>nr.employed</th>\n",
       "      <th>target</th>\n",
       "    </tr>\n",
       "  </thead>\n",
       "  <tbody>\n",
       "    <tr>\n",
       "      <th>0</th>\n",
       "      <td>df7489733b004bbe40d3d37b34f82419</td>\n",
       "      <td>54</td>\n",
       "      <td>technician</td>\n",
       "      <td>married</td>\n",
       "      <td>professional.course</td>\n",
       "      <td>unknown</td>\n",
       "      <td>no</td>\n",
       "      <td>no</td>\n",
       "      <td>cellular</td>\n",
       "      <td>aug</td>\n",
       "      <td>...</td>\n",
       "      <td>1</td>\n",
       "      <td>999</td>\n",
       "      <td>0</td>\n",
       "      <td>nonexistent</td>\n",
       "      <td>1.4</td>\n",
       "      <td>93.444</td>\n",
       "      <td>-36.1</td>\n",
       "      <td>4.963</td>\n",
       "      <td>5228.1</td>\n",
       "      <td>0</td>\n",
       "    </tr>\n",
       "    <tr>\n",
       "      <th>1</th>\n",
       "      <td>905a0b9a5456ee962223033473666be3</td>\n",
       "      <td>36</td>\n",
       "      <td>services</td>\n",
       "      <td>single</td>\n",
       "      <td>basic.4y</td>\n",
       "      <td>no</td>\n",
       "      <td>no</td>\n",
       "      <td>no</td>\n",
       "      <td>telephone</td>\n",
       "      <td>may</td>\n",
       "      <td>...</td>\n",
       "      <td>1</td>\n",
       "      <td>999</td>\n",
       "      <td>0</td>\n",
       "      <td>nonexistent</td>\n",
       "      <td>1.1</td>\n",
       "      <td>93.994</td>\n",
       "      <td>-36.4</td>\n",
       "      <td>4.857</td>\n",
       "      <td>5191.0</td>\n",
       "      <td>0</td>\n",
       "    </tr>\n",
       "    <tr>\n",
       "      <th>2</th>\n",
       "      <td>02d69c07ec6d68e31d641edd45ce61cd</td>\n",
       "      <td>53</td>\n",
       "      <td>blue-collar</td>\n",
       "      <td>married</td>\n",
       "      <td>basic.4y</td>\n",
       "      <td>no</td>\n",
       "      <td>yes</td>\n",
       "      <td>no</td>\n",
       "      <td>cellular</td>\n",
       "      <td>aug</td>\n",
       "      <td>...</td>\n",
       "      <td>1</td>\n",
       "      <td>999</td>\n",
       "      <td>0</td>\n",
       "      <td>nonexistent</td>\n",
       "      <td>1.4</td>\n",
       "      <td>93.444</td>\n",
       "      <td>-36.1</td>\n",
       "      <td>4.965</td>\n",
       "      <td>5228.1</td>\n",
       "      <td>0</td>\n",
       "    </tr>\n",
       "    <tr>\n",
       "      <th>3</th>\n",
       "      <td>e492fbe0cccaf67cdb5c0944dbc8a167</td>\n",
       "      <td>34</td>\n",
       "      <td>blue-collar</td>\n",
       "      <td>married</td>\n",
       "      <td>basic.9y</td>\n",
       "      <td>no</td>\n",
       "      <td>yes</td>\n",
       "      <td>yes</td>\n",
       "      <td>telephone</td>\n",
       "      <td>may</td>\n",
       "      <td>...</td>\n",
       "      <td>2</td>\n",
       "      <td>999</td>\n",
       "      <td>0</td>\n",
       "      <td>nonexistent</td>\n",
       "      <td>1.1</td>\n",
       "      <td>93.994</td>\n",
       "      <td>-36.4</td>\n",
       "      <td>4.857</td>\n",
       "      <td>5191.0</td>\n",
       "      <td>0</td>\n",
       "    </tr>\n",
       "    <tr>\n",
       "      <th>4</th>\n",
       "      <td>ac2dc6f5835bdea8e71dd99b65208d07</td>\n",
       "      <td>29</td>\n",
       "      <td>services</td>\n",
       "      <td>single</td>\n",
       "      <td>university.degree</td>\n",
       "      <td>no</td>\n",
       "      <td>yes</td>\n",
       "      <td>no</td>\n",
       "      <td>telephone</td>\n",
       "      <td>aug</td>\n",
       "      <td>...</td>\n",
       "      <td>1</td>\n",
       "      <td>999</td>\n",
       "      <td>0</td>\n",
       "      <td>nonexistent</td>\n",
       "      <td>-1.7</td>\n",
       "      <td>94.027</td>\n",
       "      <td>-38.3</td>\n",
       "      <td>0.890</td>\n",
       "      <td>4991.6</td>\n",
       "      <td>0</td>\n",
       "    </tr>\n",
       "  </tbody>\n",
       "</table>\n",
       "<p>5 rows × 22 columns</p>\n",
       "</div>"
      ],
      "text/plain": [
       "                                _id  age          job  marital  \\\n",
       "0  df7489733b004bbe40d3d37b34f82419   54   technician  married   \n",
       "1  905a0b9a5456ee962223033473666be3   36     services   single   \n",
       "2  02d69c07ec6d68e31d641edd45ce61cd   53  blue-collar  married   \n",
       "3  e492fbe0cccaf67cdb5c0944dbc8a167   34  blue-collar  married   \n",
       "4  ac2dc6f5835bdea8e71dd99b65208d07   29     services   single   \n",
       "\n",
       "             education  default housing loan    contact month   ...    \\\n",
       "0  professional.course  unknown      no   no   cellular   aug   ...     \n",
       "1             basic.4y       no      no   no  telephone   may   ...     \n",
       "2             basic.4y       no     yes   no   cellular   aug   ...     \n",
       "3             basic.9y       no     yes  yes  telephone   may   ...     \n",
       "4    university.degree       no     yes   no  telephone   aug   ...     \n",
       "\n",
       "  campaign  pdays  previous     poutcome  emp.var.rate cons.price.idx  \\\n",
       "0        1    999         0  nonexistent           1.4         93.444   \n",
       "1        1    999         0  nonexistent           1.1         93.994   \n",
       "2        1    999         0  nonexistent           1.4         93.444   \n",
       "3        2    999         0  nonexistent           1.1         93.994   \n",
       "4        1    999         0  nonexistent          -1.7         94.027   \n",
       "\n",
       "   cons.conf.idx  euribor3m  nr.employed  target  \n",
       "0          -36.1      4.963       5228.1       0  \n",
       "1          -36.4      4.857       5191.0       0  \n",
       "2          -36.1      4.965       5228.1       0  \n",
       "3          -36.4      4.857       5191.0       0  \n",
       "4          -38.3      0.890       4991.6       0  \n",
       "\n",
       "[5 rows x 22 columns]"
      ]
     },
     "execution_count": 234,
     "metadata": {},
     "output_type": "execute_result"
    }
   ],
   "source": [
    "df_train.head()"
   ]
  },
  {
   "cell_type": "code",
   "execution_count": null,
   "metadata": {},
   "outputs": [],
   "source": []
  },
  {
   "cell_type": "code",
   "execution_count": 235,
   "metadata": {},
   "outputs": [
    {
     "name": "stdout",
     "output_type": "stream",
     "text": [
      "<class 'pandas.core.frame.DataFrame'>\n",
      "RangeIndex: 24712 entries, 0 to 24711\n",
      "Data columns (total 22 columns):\n",
      "_id               24712 non-null object\n",
      "age               24712 non-null int64\n",
      "job               24712 non-null object\n",
      "marital           24712 non-null object\n",
      "education         24712 non-null object\n",
      "default           24712 non-null object\n",
      "housing           24712 non-null object\n",
      "loan              24712 non-null object\n",
      "contact           24712 non-null object\n",
      "month             24712 non-null object\n",
      "day_of_week       24712 non-null object\n",
      "duration          24712 non-null int64\n",
      "campaign          24712 non-null int64\n",
      "pdays             24712 non-null int64\n",
      "previous          24712 non-null int64\n",
      "poutcome          24712 non-null object\n",
      "emp.var.rate      24712 non-null float64\n",
      "cons.price.idx    24712 non-null float64\n",
      "cons.conf.idx     24712 non-null float64\n",
      "euribor3m         24712 non-null float64\n",
      "nr.employed       24712 non-null float64\n",
      "target            24712 non-null int64\n",
      "dtypes: float64(5), int64(6), object(11)\n",
      "memory usage: 4.1+ MB\n"
     ]
    }
   ],
   "source": [
    "df_train.info()"
   ]
  },
  {
   "cell_type": "markdown",
   "metadata": {},
   "source": [
    "### Подготовка данных"
   ]
  },
  {
   "cell_type": "code",
   "execution_count": 236,
   "metadata": {},
   "outputs": [],
   "source": [
    "def preproc(df_init):\n",
    "    df_preproc = df_init.copy()\n",
    "    \n",
    "    # Удалили признаки\n",
    "    df_preproc = df_preproc.drop(['_id'], axis=1)\n",
    "    \n",
    "    return df_preproc"
   ]
  },
  {
   "cell_type": "code",
   "execution_count": 237,
   "metadata": {},
   "outputs": [
    {
     "name": "stdout",
     "output_type": "stream",
     "text": [
      "==========\n",
      "job\n",
      "{'technician', 'student', 'management', 'entrepreneur', 'unknown', 'admin.', 'housemaid', 'self-employed', 'retired', 'blue-collar', 'unemployed', 'services'}\n",
      "\n",
      "\n",
      "==========\n",
      "marital\n",
      "{'single', 'married', 'divorced', 'unknown'}\n",
      "\n",
      "\n",
      "==========\n",
      "education\n",
      "{'basic.6y', 'unknown', 'university.degree', 'basic.4y', 'professional.course', 'basic.9y', 'illiterate', 'high.school'}\n",
      "\n",
      "\n",
      "==========\n",
      "default\n",
      "{'no', 'yes', 'unknown'}\n",
      "\n",
      "\n",
      "==========\n",
      "housing\n",
      "{'no', 'yes', 'unknown'}\n",
      "\n",
      "\n",
      "==========\n",
      "loan\n",
      "{'no', 'yes', 'unknown'}\n",
      "\n",
      "\n",
      "==========\n",
      "contact\n",
      "{'telephone', 'cellular'}\n",
      "\n",
      "\n",
      "==========\n",
      "month\n",
      "{'jun', 'oct', 'jul', 'aug', 'nov', 'may', 'apr', 'mar', 'sep', 'dec'}\n",
      "\n",
      "\n",
      "==========\n",
      "day_of_week\n",
      "{'wed', 'mon', 'thu', 'tue', 'fri'}\n",
      "\n",
      "\n",
      "==========\n",
      "poutcome\n",
      "{'nonexistent', 'failure', 'success'}\n",
      "\n",
      "\n"
     ]
    }
   ],
   "source": [
    "df_preproc = df_train.pipe(preproc)\n",
    "\n",
    "df_test_preproc = df_test.pipe(preproc)\n",
    "\n",
    "\n",
    "for i in df_preproc.columns: # перебираем все столбцы\n",
    "    if str(df_preproc[i].dtype) == 'object': # если тип столбца - object\n",
    "        print('='*10)\n",
    "        print(i) # выводим название столбца\n",
    "        print(set(df_preproc[i])) # выводим все его значения (но делаем set - чтоб значения не повторялись)\n",
    "        print('\\n') # выводим пустую строку"
   ]
  },
  {
   "cell_type": "code",
   "execution_count": 238,
   "metadata": {},
   "outputs": [
    {
     "data": {
      "text/html": [
       "<div>\n",
       "<style scoped>\n",
       "    .dataframe tbody tr th:only-of-type {\n",
       "        vertical-align: middle;\n",
       "    }\n",
       "\n",
       "    .dataframe tbody tr th {\n",
       "        vertical-align: top;\n",
       "    }\n",
       "\n",
       "    .dataframe thead th {\n",
       "        text-align: right;\n",
       "    }\n",
       "</style>\n",
       "<table border=\"1\" class=\"dataframe\">\n",
       "  <thead>\n",
       "    <tr style=\"text-align: right;\">\n",
       "      <th></th>\n",
       "      <th>0</th>\n",
       "      <th>1</th>\n",
       "      <th>2</th>\n",
       "      <th>3</th>\n",
       "      <th>4</th>\n",
       "    </tr>\n",
       "  </thead>\n",
       "  <tbody>\n",
       "    <tr>\n",
       "      <th>age</th>\n",
       "      <td>57</td>\n",
       "      <td>55</td>\n",
       "      <td>33</td>\n",
       "      <td>36</td>\n",
       "      <td>27</td>\n",
       "    </tr>\n",
       "    <tr>\n",
       "      <th>job</th>\n",
       "      <td>technician</td>\n",
       "      <td>unknown</td>\n",
       "      <td>blue-collar</td>\n",
       "      <td>admin.</td>\n",
       "      <td>housemaid</td>\n",
       "    </tr>\n",
       "    <tr>\n",
       "      <th>marital</th>\n",
       "      <td>married</td>\n",
       "      <td>married</td>\n",
       "      <td>married</td>\n",
       "      <td>married</td>\n",
       "      <td>married</td>\n",
       "    </tr>\n",
       "    <tr>\n",
       "      <th>education</th>\n",
       "      <td>high.school</td>\n",
       "      <td>unknown</td>\n",
       "      <td>basic.9y</td>\n",
       "      <td>high.school</td>\n",
       "      <td>high.school</td>\n",
       "    </tr>\n",
       "    <tr>\n",
       "      <th>default</th>\n",
       "      <td>no</td>\n",
       "      <td>unknown</td>\n",
       "      <td>no</td>\n",
       "      <td>no</td>\n",
       "      <td>no</td>\n",
       "    </tr>\n",
       "    <tr>\n",
       "      <th>housing</th>\n",
       "      <td>no</td>\n",
       "      <td>yes</td>\n",
       "      <td>no</td>\n",
       "      <td>no</td>\n",
       "      <td>yes</td>\n",
       "    </tr>\n",
       "    <tr>\n",
       "      <th>loan</th>\n",
       "      <td>yes</td>\n",
       "      <td>no</td>\n",
       "      <td>no</td>\n",
       "      <td>no</td>\n",
       "      <td>no</td>\n",
       "    </tr>\n",
       "    <tr>\n",
       "      <th>contact</th>\n",
       "      <td>cellular</td>\n",
       "      <td>telephone</td>\n",
       "      <td>cellular</td>\n",
       "      <td>telephone</td>\n",
       "      <td>cellular</td>\n",
       "    </tr>\n",
       "    <tr>\n",
       "      <th>month</th>\n",
       "      <td>may</td>\n",
       "      <td>may</td>\n",
       "      <td>may</td>\n",
       "      <td>jun</td>\n",
       "      <td>jul</td>\n",
       "    </tr>\n",
       "    <tr>\n",
       "      <th>day_of_week</th>\n",
       "      <td>mon</td>\n",
       "      <td>thu</td>\n",
       "      <td>fri</td>\n",
       "      <td>fri</td>\n",
       "      <td>fri</td>\n",
       "    </tr>\n",
       "    <tr>\n",
       "      <th>duration</th>\n",
       "      <td>371</td>\n",
       "      <td>285</td>\n",
       "      <td>52</td>\n",
       "      <td>355</td>\n",
       "      <td>189</td>\n",
       "    </tr>\n",
       "    <tr>\n",
       "      <th>campaign</th>\n",
       "      <td>1</td>\n",
       "      <td>2</td>\n",
       "      <td>1</td>\n",
       "      <td>4</td>\n",
       "      <td>2</td>\n",
       "    </tr>\n",
       "    <tr>\n",
       "      <th>pdays</th>\n",
       "      <td>999</td>\n",
       "      <td>999</td>\n",
       "      <td>999</td>\n",
       "      <td>999</td>\n",
       "      <td>999</td>\n",
       "    </tr>\n",
       "    <tr>\n",
       "      <th>previous</th>\n",
       "      <td>1</td>\n",
       "      <td>0</td>\n",
       "      <td>1</td>\n",
       "      <td>0</td>\n",
       "      <td>0</td>\n",
       "    </tr>\n",
       "    <tr>\n",
       "      <th>poutcome</th>\n",
       "      <td>failure</td>\n",
       "      <td>nonexistent</td>\n",
       "      <td>failure</td>\n",
       "      <td>nonexistent</td>\n",
       "      <td>nonexistent</td>\n",
       "    </tr>\n",
       "    <tr>\n",
       "      <th>emp.var.rate</th>\n",
       "      <td>-1.8</td>\n",
       "      <td>1.1</td>\n",
       "      <td>-1.8</td>\n",
       "      <td>1.4</td>\n",
       "      <td>1.4</td>\n",
       "    </tr>\n",
       "    <tr>\n",
       "      <th>cons.price.idx</th>\n",
       "      <td>92.893</td>\n",
       "      <td>93.994</td>\n",
       "      <td>92.893</td>\n",
       "      <td>94.465</td>\n",
       "      <td>93.918</td>\n",
       "    </tr>\n",
       "    <tr>\n",
       "      <th>cons.conf.idx</th>\n",
       "      <td>-46.2</td>\n",
       "      <td>-36.4</td>\n",
       "      <td>-46.2</td>\n",
       "      <td>-41.8</td>\n",
       "      <td>-42.7</td>\n",
       "    </tr>\n",
       "    <tr>\n",
       "      <th>euribor3m</th>\n",
       "      <td>1.299</td>\n",
       "      <td>4.86</td>\n",
       "      <td>1.313</td>\n",
       "      <td>4.967</td>\n",
       "      <td>4.963</td>\n",
       "    </tr>\n",
       "    <tr>\n",
       "      <th>nr.employed</th>\n",
       "      <td>5099.1</td>\n",
       "      <td>5191</td>\n",
       "      <td>5099.1</td>\n",
       "      <td>5228.1</td>\n",
       "      <td>5228.1</td>\n",
       "    </tr>\n",
       "    <tr>\n",
       "      <th>target</th>\n",
       "      <td>0</td>\n",
       "      <td>0</td>\n",
       "      <td>0</td>\n",
       "      <td>0</td>\n",
       "      <td>0</td>\n",
       "    </tr>\n",
       "  </tbody>\n",
       "</table>\n",
       "</div>"
      ],
      "text/plain": [
       "                          0            1            2            3  \\\n",
       "age                      57           55           33           36   \n",
       "job              technician      unknown  blue-collar       admin.   \n",
       "marital             married      married      married      married   \n",
       "education       high.school      unknown     basic.9y  high.school   \n",
       "default                  no      unknown           no           no   \n",
       "housing                  no          yes           no           no   \n",
       "loan                    yes           no           no           no   \n",
       "contact            cellular    telephone     cellular    telephone   \n",
       "month                   may          may          may          jun   \n",
       "day_of_week             mon          thu          fri          fri   \n",
       "duration                371          285           52          355   \n",
       "campaign                  1            2            1            4   \n",
       "pdays                   999          999          999          999   \n",
       "previous                  1            0            1            0   \n",
       "poutcome            failure  nonexistent      failure  nonexistent   \n",
       "emp.var.rate           -1.8          1.1         -1.8          1.4   \n",
       "cons.price.idx       92.893       93.994       92.893       94.465   \n",
       "cons.conf.idx         -46.2        -36.4        -46.2        -41.8   \n",
       "euribor3m             1.299         4.86        1.313        4.967   \n",
       "nr.employed          5099.1         5191       5099.1       5228.1   \n",
       "target                    0            0            0            0   \n",
       "\n",
       "                          4  \n",
       "age                      27  \n",
       "job               housemaid  \n",
       "marital             married  \n",
       "education       high.school  \n",
       "default                  no  \n",
       "housing                 yes  \n",
       "loan                     no  \n",
       "contact            cellular  \n",
       "month                   jul  \n",
       "day_of_week             fri  \n",
       "duration                189  \n",
       "campaign                  2  \n",
       "pdays                   999  \n",
       "previous                  0  \n",
       "poutcome        nonexistent  \n",
       "emp.var.rate            1.4  \n",
       "cons.price.idx       93.918  \n",
       "cons.conf.idx         -42.7  \n",
       "euribor3m             4.963  \n",
       "nr.employed          5228.1  \n",
       "target                    0  "
      ]
     },
     "execution_count": 238,
     "metadata": {},
     "output_type": "execute_result"
    }
   ],
   "source": [
    "df_test_preproc.head().T\n"
   ]
  },
  {
   "cell_type": "code",
   "execution_count": 239,
   "metadata": {},
   "outputs": [
    {
     "name": "stdout",
     "output_type": "stream",
     "text": [
      "<class 'pandas.core.frame.DataFrame'>\n",
      "RangeIndex: 24712 entries, 0 to 24711\n",
      "Data columns (total 20 columns):\n",
      "age               24712 non-null int64\n",
      "job               24712 non-null object\n",
      "marital           24712 non-null object\n",
      "education         24712 non-null object\n",
      "default           24712 non-null object\n",
      "housing           24712 non-null object\n",
      "loan              24712 non-null object\n",
      "contact           24712 non-null object\n",
      "month             24712 non-null object\n",
      "day_of_week       24712 non-null object\n",
      "duration          24712 non-null int64\n",
      "campaign          24712 non-null int64\n",
      "pdays             24712 non-null int64\n",
      "previous          24712 non-null int64\n",
      "poutcome          24712 non-null object\n",
      "emp.var.rate      24712 non-null float64\n",
      "cons.price.idx    24712 non-null float64\n",
      "cons.conf.idx     24712 non-null float64\n",
      "euribor3m         24712 non-null float64\n",
      "nr.employed       24712 non-null float64\n",
      "dtypes: float64(5), int64(5), object(10)\n",
      "memory usage: 3.8+ MB\n"
     ]
    }
   ],
   "source": [
    "# выделяем из учебных данных вектор целей - target\n",
    "y = df_preproc['target'].values\n",
    "y_test = df_test_preproc['target'].values\n",
    "\n",
    "# убираем из учебных данных колонку target\n",
    "df_X = df_preproc.drop('target', axis=1)\n",
    "df_X_test = df_test_preproc.drop('target', axis=1)\n",
    "\n",
    "\n",
    "df_X.info(verbose=True, memory_usage=True, null_counts=True)"
   ]
  },
  {
   "cell_type": "markdown",
   "metadata": {},
   "source": [
    "### Библиотеки"
   ]
  },
  {
   "cell_type": "code",
   "execution_count": 10,
   "metadata": {},
   "outputs": [],
   "source": [
    "from sklearn.model_selection import train_test_split\n",
    "from sklearn.model_selection import StratifiedKFold\n",
    "from sklearn.model_selection import cross_val_score\n",
    "\n",
    "from sklearn.neighbors import KNeighborsClassifier\n",
    "from sklearn.tree import DecisionTreeClassifier\n",
    "from sklearn.linear_model import LogisticRegression\n",
    "\n",
    "from sklearn.pipeline import Pipeline\n",
    "from sklearn.preprocessing import StandardScaler\n",
    "\n",
    "from sklearn.metrics import roc_auc_score"
   ]
  },
  {
   "cell_type": "code",
   "execution_count": 11,
   "metadata": {},
   "outputs": [],
   "source": [
    "from scipy.stats import randint as randint\n",
    "from scipy.stats import uniform\n",
    "\n",
    "try:\n",
    "    from sklearn.model_selection import GridSearchCV\n",
    "    from sklearn.model_selection import RandomizedSearchCV\n",
    "    from sklearn.model_selection import StratifiedKFold\n",
    "except ImportError:\n",
    "    from sklearn.cross_validation import GridSearchCV\n",
    "    from sklearn.cross_validation import RandomizedSearchCV\n",
    "    from sklearn.cross_validation import StratifiedKFold\n",
    "    "
   ]
  },
  {
   "cell_type": "code",
   "execution_count": 12,
   "metadata": {},
   "outputs": [],
   "source": [
    "#определим random state для всех методов\n",
    "RND_ST = 99"
   ]
  },
  {
   "cell_type": "markdown",
   "metadata": {},
   "source": [
    "### Решение задачи:\n",
    "\n",
    "#### А. Использовать методы\n",
    "\n",
    "1) kNN\n",
    "2) дерево принятия решения\n",
    "3) логистическая регрессия\n",
    "\n",
    "\n",
    "#### Б. Выбрать наилучшее решение\n"
   ]
  },
  {
   "cell_type": "markdown",
   "metadata": {},
   "source": [
    "#### Предобработка"
   ]
  },
  {
   "cell_type": "code",
   "execution_count": 13,
   "metadata": {},
   "outputs": [],
   "source": [
    "# предобработка, убираем категориальные признаки\n",
    "def preproc_categorical(df_Data): \n",
    "    df_preproc_kNN = df_Data.copy()\n",
    "\n",
    "    samlpe_col = []\n",
    "    categorical_cols = [c for c in df_preproc_kNN.columns if (df_preproc_kNN[c].dtype.name == 'object' and c not in samlpe_col ) ]\n",
    "\n",
    "    df_output_kNN = pd.get_dummies(df_preproc_kNN, columns=categorical_cols)\n",
    "    \n",
    "    return df_output_kNN"
   ]
  },
  {
   "cell_type": "code",
   "execution_count": 241,
   "metadata": {},
   "outputs": [
    {
     "name": "stdout",
     "output_type": "stream",
     "text": [
      "<class 'pandas.core.frame.DataFrame'>\n",
      "RangeIndex: 24712 entries, 0 to 24711\n",
      "Data columns (total 63 columns):\n",
      "age                              24712 non-null int64\n",
      "duration                         24712 non-null int64\n",
      "campaign                         24712 non-null int64\n",
      "pdays                            24712 non-null int64\n",
      "previous                         24712 non-null int64\n",
      "emp.var.rate                     24712 non-null float64\n",
      "cons.price.idx                   24712 non-null float64\n",
      "cons.conf.idx                    24712 non-null float64\n",
      "euribor3m                        24712 non-null float64\n",
      "nr.employed                      24712 non-null float64\n",
      "job_admin.                       24712 non-null uint8\n",
      "job_blue-collar                  24712 non-null uint8\n",
      "job_entrepreneur                 24712 non-null uint8\n",
      "job_housemaid                    24712 non-null uint8\n",
      "job_management                   24712 non-null uint8\n",
      "job_retired                      24712 non-null uint8\n",
      "job_self-employed                24712 non-null uint8\n",
      "job_services                     24712 non-null uint8\n",
      "job_student                      24712 non-null uint8\n",
      "job_technician                   24712 non-null uint8\n",
      "job_unemployed                   24712 non-null uint8\n",
      "job_unknown                      24712 non-null uint8\n",
      "marital_divorced                 24712 non-null uint8\n",
      "marital_married                  24712 non-null uint8\n",
      "marital_single                   24712 non-null uint8\n",
      "marital_unknown                  24712 non-null uint8\n",
      "education_basic.4y               24712 non-null uint8\n",
      "education_basic.6y               24712 non-null uint8\n",
      "education_basic.9y               24712 non-null uint8\n",
      "education_high.school            24712 non-null uint8\n",
      "education_illiterate             24712 non-null uint8\n",
      "education_professional.course    24712 non-null uint8\n",
      "education_university.degree      24712 non-null uint8\n",
      "education_unknown                24712 non-null uint8\n",
      "default_no                       24712 non-null uint8\n",
      "default_unknown                  24712 non-null uint8\n",
      "default_yes                      24712 non-null uint8\n",
      "housing_no                       24712 non-null uint8\n",
      "housing_unknown                  24712 non-null uint8\n",
      "housing_yes                      24712 non-null uint8\n",
      "loan_no                          24712 non-null uint8\n",
      "loan_unknown                     24712 non-null uint8\n",
      "loan_yes                         24712 non-null uint8\n",
      "contact_cellular                 24712 non-null uint8\n",
      "contact_telephone                24712 non-null uint8\n",
      "month_apr                        24712 non-null uint8\n",
      "month_aug                        24712 non-null uint8\n",
      "month_dec                        24712 non-null uint8\n",
      "month_jul                        24712 non-null uint8\n",
      "month_jun                        24712 non-null uint8\n",
      "month_mar                        24712 non-null uint8\n",
      "month_may                        24712 non-null uint8\n",
      "month_nov                        24712 non-null uint8\n",
      "month_oct                        24712 non-null uint8\n",
      "month_sep                        24712 non-null uint8\n",
      "day_of_week_fri                  24712 non-null uint8\n",
      "day_of_week_mon                  24712 non-null uint8\n",
      "day_of_week_thu                  24712 non-null uint8\n",
      "day_of_week_tue                  24712 non-null uint8\n",
      "day_of_week_wed                  24712 non-null uint8\n",
      "poutcome_failure                 24712 non-null uint8\n",
      "poutcome_nonexistent             24712 non-null uint8\n",
      "poutcome_success                 24712 non-null uint8\n",
      "dtypes: float64(5), int64(5), uint8(53)\n",
      "memory usage: 3.1 MB\n"
     ]
    }
   ],
   "source": [
    "df_X_preproc = df_X.pipe(preproc_categorical)\n",
    "df_X_preproc.info()"
   ]
  },
  {
   "cell_type": "code",
   "execution_count": 15,
   "metadata": {},
   "outputs": [],
   "source": [
    "df_X_test_preproc = df_X_test.pipe(preproc_categorical)"
   ]
  },
  {
   "cell_type": "markdown",
   "metadata": {},
   "source": [
    "#### А.1.1 метод kNN"
   ]
  },
  {
   "cell_type": "code",
   "execution_count": 16,
   "metadata": {},
   "outputs": [],
   "source": [
    "def solve_kNN(dataX, dataY, rand_state=123):\n",
    "    \n",
    "    solv_model = KNeighborsClassifier(random_state=rand_state)\n",
    "    \n",
    "    # гиперпараметры модели\n",
    "    solv_param_grid = {\n",
    "        'n_neighbors': randint(10, 25)\n",
    "        ,'weights': ['distance', 'uniform']\n",
    "    #    ,'algorithm': ['ball_tree', 'kd_tree', 'brute']\n",
    "        ,'leaf_size': randint(25, 35)\n",
    "    }\n",
    "\n",
    "    cv = StratifiedKFold(n_splits=5, random_state=rand_state, shuffle=True)\n",
    "\n",
    "    random_search = RandomizedSearchCV(solv_model, param_distributions=solv_param_grid, n_iter=100, n_jobs=-1,\n",
    "                                       cv=cv, scoring='roc_auc', random_state=rand_state)\n",
    "    random_search.fit(dataX, dataY)\n",
    "\n",
    "    solv_bs = random_search.best_score_\n",
    "    solv_bp = random_search.best_params_\n",
    "    \n",
    "    model = random_search.best_estimator_\n",
    "    try:\n",
    "        importances = model.feature_importances_\n",
    "    except:\n",
    "        importances = []\n",
    "    \n",
    "    result = {'model': model, 'importances': importances, 'best_score': solv_bs, 'best_params': solv_bp}\n",
    "    \n",
    "    return result"
   ]
  },
  {
   "cell_type": "code",
   "execution_count": 17,
   "metadata": {},
   "outputs": [],
   "source": [
    "# подбор гиперпараметров для kNN, ответ = {'model','importances','best_score','best_params'}\n",
    "result_kNN = solve_kNN(df_X_preproc, y, RND_ST)"
   ]
  },
  {
   "cell_type": "code",
   "execution_count": 18,
   "metadata": {},
   "outputs": [
    {
     "data": {
      "text/plain": [
       "{'model': KNeighborsClassifier(algorithm='auto', leaf_size=30, metric='minkowski',\n",
       "            metric_params=None, n_jobs=1, n_neighbors=24, p=2,\n",
       "            weights='distance'),\n",
       " 'importances': [],\n",
       " 'best_score': 0.9220535547658417,\n",
       " 'best_params': {'leaf_size': 30, 'n_neighbors': 24, 'weights': 'distance'}}"
      ]
     },
     "execution_count": 18,
     "metadata": {},
     "output_type": "execute_result"
    }
   ],
   "source": [
    "result_kNN\n"
   ]
  },
  {
   "cell_type": "markdown",
   "metadata": {},
   "source": [
    "#### А.1.2 Проверка на тестовой выборке"
   ]
  },
  {
   "cell_type": "code",
   "execution_count": 20,
   "metadata": {},
   "outputs": [],
   "source": [
    "predict_kNN = result_kNN['model'].predict(df_X_test_preproc) "
   ]
  },
  {
   "cell_type": "code",
   "execution_count": 23,
   "metadata": {},
   "outputs": [
    {
     "data": {
      "text/plain": [
       "array([0, 0, 0, ..., 0, 0, 0], dtype=int64)"
      ]
     },
     "execution_count": 23,
     "metadata": {},
     "output_type": "execute_result"
    }
   ],
   "source": [
    "predict_kNN"
   ]
  },
  {
   "cell_type": "markdown",
   "metadata": {},
   "source": [
    "#### А.2 Дерево принятия решений"
   ]
  },
  {
   "cell_type": "code",
   "execution_count": 242,
   "metadata": {},
   "outputs": [],
   "source": [
    "def solve_dTree(dataX, dataY, solv_param_grid, rand_state=123):\n",
    "\n",
    "    solv_model = DecisionTreeClassifier(random_state=rand_state)\n",
    "    \n",
    "    # гиперпараметры модели\n",
    "    solv_param_grid = {\n",
    "        #'criterion': ['gini', 'entropy']\n",
    "        'criterion': ['entropy']\n",
    "        , 'max_depth': randint(4, 20)\n",
    "        , 'min_samples_leaf': randint(15, 40)\n",
    "        , 'class_weight': ['balanced']        \n",
    "        #, 'class_weight': [None, 'balanced']        \n",
    "    }\n",
    "\n",
    "    cv = StratifiedKFold(n_splits=10, random_state=rand_state, shuffle=True)\n",
    "\n",
    "    random_search = RandomizedSearchCV(solv_model, param_distributions=solv_param_grid, n_iter=100, n_jobs=-1,\n",
    "                                       cv=cv, scoring='roc_auc', random_state=rand_state )\n",
    "    random_search.fit(dataX, dataY)\n",
    "\n",
    "    solv_bs = random_search.best_score_\n",
    "    solv_bp = random_search.best_params_\n",
    "    \n",
    "    model = random_search.best_estimator_\n",
    "    try:\n",
    "        importances = model.feature_importances_\n",
    "    except:\n",
    "        importances = []\n",
    "    \n",
    "    result = {'model': model, 'importances': importances, 'best_score': solv_bs, 'best_params': solv_bp}\n",
    "    \n",
    "    return result"
   ]
  },
  {
   "cell_type": "code",
   "execution_count": 243,
   "metadata": {},
   "outputs": [],
   "source": [
    "# подбор гиперпараметров для DecisionTreeClassifier, ответ = {'model','importances','best_score','best_params'}\n",
    "result_dTree = solve_dTree(df_X_preproc, y, RND_ST)"
   ]
  },
  {
   "cell_type": "code",
   "execution_count": 244,
   "metadata": {},
   "outputs": [
    {
     "data": {
      "text/plain": [
       "{'model': DecisionTreeClassifier(class_weight='balanced', criterion='entropy',\n",
       "             max_depth=7, max_features=None, max_leaf_nodes=None,\n",
       "             min_impurity_decrease=0.0, min_impurity_split=None,\n",
       "             min_samples_leaf=35, min_samples_split=2,\n",
       "             min_weight_fraction_leaf=0.0, presort=False, random_state=123,\n",
       "             splitter='best'),\n",
       " 'importances': array([4.00127474e-03, 5.02481991e-01, 2.69407082e-03, 8.62383001e-03,\n",
       "        1.62255158e-03, 6.31316921e-02, 4.00695254e-03, 8.08985057e-02,\n",
       "        4.72374066e-02, 2.63789221e-01, 1.15944432e-03, 1.65553175e-03,\n",
       "        0.00000000e+00, 0.00000000e+00, 0.00000000e+00, 0.00000000e+00,\n",
       "        0.00000000e+00, 0.00000000e+00, 0.00000000e+00, 0.00000000e+00,\n",
       "        0.00000000e+00, 0.00000000e+00, 0.00000000e+00, 0.00000000e+00,\n",
       "        1.91176814e-04, 0.00000000e+00, 2.06829096e-03, 0.00000000e+00,\n",
       "        0.00000000e+00, 8.24185244e-04, 0.00000000e+00, 0.00000000e+00,\n",
       "        1.08495019e-03, 0.00000000e+00, 3.93929142e-03, 0.00000000e+00,\n",
       "        0.00000000e+00, 0.00000000e+00, 0.00000000e+00, 0.00000000e+00,\n",
       "        0.00000000e+00, 0.00000000e+00, 0.00000000e+00, 2.22401242e-03,\n",
       "        0.00000000e+00, 0.00000000e+00, 0.00000000e+00, 0.00000000e+00,\n",
       "        0.00000000e+00, 0.00000000e+00, 2.94407632e-03, 0.00000000e+00,\n",
       "        0.00000000e+00, 0.00000000e+00, 0.00000000e+00, 2.03865137e-03,\n",
       "        1.95791975e-04, 9.62046199e-04, 0.00000000e+00, 0.00000000e+00,\n",
       "        1.88809195e-03, 3.36962753e-04, 0.00000000e+00]),\n",
       " 'best_score': 0.9379207141103798,\n",
       " 'best_params': {'class_weight': 'balanced',\n",
       "  'criterion': 'entropy',\n",
       "  'max_depth': 7,\n",
       "  'min_samples_leaf': 35}}"
      ]
     },
     "execution_count": 244,
     "metadata": {},
     "output_type": "execute_result"
    }
   ],
   "source": [
    "result_dTree"
   ]
  },
  {
   "cell_type": "code",
   "execution_count": 245,
   "metadata": {},
   "outputs": [
    {
     "name": "stdout",
     "output_type": "stream",
     "text": [
      "<class 'pandas.core.frame.DataFrame'>\n",
      "RangeIndex: 24712 entries, 0 to 24711\n",
      "Data columns (total 63 columns):\n",
      "age                              24712 non-null int64\n",
      "duration                         24712 non-null int64\n",
      "campaign                         24712 non-null int64\n",
      "pdays                            24712 non-null int64\n",
      "previous                         24712 non-null int64\n",
      "emp.var.rate                     24712 non-null float64\n",
      "cons.price.idx                   24712 non-null float64\n",
      "cons.conf.idx                    24712 non-null float64\n",
      "euribor3m                        24712 non-null float64\n",
      "nr.employed                      24712 non-null float64\n",
      "job_admin.                       24712 non-null uint8\n",
      "job_blue-collar                  24712 non-null uint8\n",
      "job_entrepreneur                 24712 non-null uint8\n",
      "job_housemaid                    24712 non-null uint8\n",
      "job_management                   24712 non-null uint8\n",
      "job_retired                      24712 non-null uint8\n",
      "job_self-employed                24712 non-null uint8\n",
      "job_services                     24712 non-null uint8\n",
      "job_student                      24712 non-null uint8\n",
      "job_technician                   24712 non-null uint8\n",
      "job_unemployed                   24712 non-null uint8\n",
      "job_unknown                      24712 non-null uint8\n",
      "marital_divorced                 24712 non-null uint8\n",
      "marital_married                  24712 non-null uint8\n",
      "marital_single                   24712 non-null uint8\n",
      "marital_unknown                  24712 non-null uint8\n",
      "education_basic.4y               24712 non-null uint8\n",
      "education_basic.6y               24712 non-null uint8\n",
      "education_basic.9y               24712 non-null uint8\n",
      "education_high.school            24712 non-null uint8\n",
      "education_illiterate             24712 non-null uint8\n",
      "education_professional.course    24712 non-null uint8\n",
      "education_university.degree      24712 non-null uint8\n",
      "education_unknown                24712 non-null uint8\n",
      "default_no                       24712 non-null uint8\n",
      "default_unknown                  24712 non-null uint8\n",
      "default_yes                      24712 non-null uint8\n",
      "housing_no                       24712 non-null uint8\n",
      "housing_unknown                  24712 non-null uint8\n",
      "housing_yes                      24712 non-null uint8\n",
      "loan_no                          24712 non-null uint8\n",
      "loan_unknown                     24712 non-null uint8\n",
      "loan_yes                         24712 non-null uint8\n",
      "contact_cellular                 24712 non-null uint8\n",
      "contact_telephone                24712 non-null uint8\n",
      "month_apr                        24712 non-null uint8\n",
      "month_aug                        24712 non-null uint8\n",
      "month_dec                        24712 non-null uint8\n",
      "month_jul                        24712 non-null uint8\n",
      "month_jun                        24712 non-null uint8\n",
      "month_mar                        24712 non-null uint8\n",
      "month_may                        24712 non-null uint8\n",
      "month_nov                        24712 non-null uint8\n",
      "month_oct                        24712 non-null uint8\n",
      "month_sep                        24712 non-null uint8\n",
      "day_of_week_fri                  24712 non-null uint8\n",
      "day_of_week_mon                  24712 non-null uint8\n",
      "day_of_week_thu                  24712 non-null uint8\n",
      "day_of_week_tue                  24712 non-null uint8\n",
      "day_of_week_wed                  24712 non-null uint8\n",
      "poutcome_failure                 24712 non-null uint8\n",
      "poutcome_nonexistent             24712 non-null uint8\n",
      "poutcome_success                 24712 non-null uint8\n",
      "dtypes: float64(5), int64(5), uint8(53)\n",
      "memory usage: 3.1 MB\n"
     ]
    }
   ],
   "source": [
    "df_X_preproc.info()"
   ]
  },
  {
   "cell_type": "markdown",
   "metadata": {},
   "source": [
    "#### А.2.2 Проверка на тестовой выборке"
   ]
  },
  {
   "cell_type": "code",
   "execution_count": 156,
   "metadata": {},
   "outputs": [],
   "source": [
    "predict_dTree = result_dTree['model'].predict(df_X_test_preproc) "
   ]
  },
  {
   "cell_type": "code",
   "execution_count": 157,
   "metadata": {},
   "outputs": [
    {
     "data": {
      "text/plain": [
       "array([0, 0, 0, ..., 0, 0, 0], dtype=int64)"
      ]
     },
     "execution_count": 157,
     "metadata": {},
     "output_type": "execute_result"
    }
   ],
   "source": [
    "predict_dTree"
   ]
  },
  {
   "cell_type": "markdown",
   "metadata": {},
   "source": [
    "#### А.3.1 Линейная регрессия"
   ]
  },
  {
   "cell_type": "code",
   "execution_count": 144,
   "metadata": {},
   "outputs": [],
   "source": [
    "def solve_lReg(dataX, dataY, rand_state=123):\n",
    "\n",
    "    solv_model = LogisticRegression(random_state=rand_state)\n",
    "    \n",
    "    # гиперпараметры модели\n",
    "    solv_param_grid = {\n",
    "        #'solver' : {'newton-cg', 'lbfgs', 'liblinear', 'sag', 'saga'}\n",
    "        #, \n",
    "        'max_iter' : randint(50, 150)\n",
    "        , 'class_weight': [None, 'balanced']        \n",
    "    }\n",
    "\n",
    "    cv = StratifiedKFold(n_splits=5, random_state=rand_state, shuffle=True)\n",
    "\n",
    "    random_search = RandomizedSearchCV(solv_model, param_distributions=solv_param_grid, n_iter=20, n_jobs=-1,\n",
    "                                       cv=cv, scoring='roc_auc', random_state=rand_state)\n",
    "    random_search.fit(dataX, dataY)\n",
    "\n",
    "    solv_bs = random_search.best_score_\n",
    "    solv_bp = random_search.best_params_\n",
    "    \n",
    "    model = random_search.best_estimator_\n",
    "    try:\n",
    "        importances = model.feature_importances_\n",
    "    except:\n",
    "        importances = []\n",
    "    \n",
    "    result = {'model': model, 'importances': importances, 'best_score': solv_bs, 'best_params': solv_bp}\n",
    "    \n",
    "    return result"
   ]
  },
  {
   "cell_type": "code",
   "execution_count": 145,
   "metadata": {},
   "outputs": [],
   "source": [
    "# подбор гиперпараметров для DecisionTreeClassifier, ответ = {'model','importances','best_score','best_params'}\n",
    "result_lReg = solve_lReg(df_X_preproc, y, RND_ST)"
   ]
  },
  {
   "cell_type": "code",
   "execution_count": 146,
   "metadata": {},
   "outputs": [
    {
     "data": {
      "text/plain": [
       "{'model': LogisticRegression(C=1.0, class_weight='balanced', dual=False,\n",
       "           fit_intercept=True, intercept_scaling=1, max_iter=85,\n",
       "           multi_class='ovr', n_jobs=1, penalty='l2', random_state=99,\n",
       "           solver='liblinear', tol=0.0001, verbose=0, warm_start=False),\n",
       " 'importances': [],\n",
       " 'best_score': 0.9357035899929993,\n",
       " 'best_params': {'class_weight': 'balanced', 'max_iter': 85}}"
      ]
     },
     "execution_count": 146,
     "metadata": {},
     "output_type": "execute_result"
    }
   ],
   "source": [
    "result_lReg"
   ]
  },
  {
   "cell_type": "markdown",
   "metadata": {},
   "source": [
    "#### А.3.2 Проверка на тестовой выборке"
   ]
  },
  {
   "cell_type": "code",
   "execution_count": 148,
   "metadata": {},
   "outputs": [],
   "source": [
    "predict_lReg = result_lReg['model'].predict(df_X_test_preproc) "
   ]
  },
  {
   "cell_type": "code",
   "execution_count": 149,
   "metadata": {},
   "outputs": [
    {
     "data": {
      "text/plain": [
       "array([0, 0, 0, ..., 0, 0, 0], dtype=int64)"
      ]
     },
     "execution_count": 149,
     "metadata": {},
     "output_type": "execute_result"
    }
   ],
   "source": [
    "predict_lReg"
   ]
  },
  {
   "cell_type": "markdown",
   "metadata": {},
   "source": [
    "### Лучшая модель"
   ]
  },
  {
   "cell_type": "code",
   "execution_count": 246,
   "metadata": {},
   "outputs": [
    {
     "name": "stdout",
     "output_type": "stream",
     "text": [
      "0.9220535547658417\n",
      "0.9379207141103798\n",
      "0.9357035899929993\n"
     ]
    }
   ],
   "source": [
    "#result_kNN, result_dTree, result_lReg\n",
    "print(result_kNN['best_score'])\n",
    "print(result_dTree['best_score'])\n",
    "print(result_lReg['best_score'])"
   ]
  },
  {
   "cell_type": "markdown",
   "metadata": {},
   "source": [
    "#### Попробуем упростить таблицу данных, убрав малозначимые характеристики "
   ]
  },
  {
   "cell_type": "code",
   "execution_count": 254,
   "metadata": {},
   "outputs": [],
   "source": [
    "index_col_serie = df_X_preproc.columns.to_series()"
   ]
  },
  {
   "cell_type": "code",
   "execution_count": 255,
   "metadata": {},
   "outputs": [],
   "source": [
    "result_importances_serie = pd.Series(index=index_col_serie, data=result_dTree['importances']).sort_values()\n",
    "#result_importances_serie"
   ]
  },
  {
   "cell_type": "code",
   "execution_count": 256,
   "metadata": {},
   "outputs": [],
   "source": [
    "# собираем список колонок для исключения из учебной выборки\n",
    "drop_list = []\n",
    "for i in df_X_preproc.columns:\n",
    "    if result_importances_serie[i] == 0 :\n",
    "        drop_list.append(i)"
   ]
  },
  {
   "cell_type": "code",
   "execution_count": 258,
   "metadata": {},
   "outputs": [],
   "source": [
    "df_X_preproc_new = df_X_preproc.drop(drop_list, axis=1)"
   ]
  },
  {
   "cell_type": "code",
   "execution_count": null,
   "metadata": {},
   "outputs": [],
   "source": []
  },
  {
   "cell_type": "markdown",
   "metadata": {},
   "source": [
    "##### Заново обучим модель"
   ]
  },
  {
   "cell_type": "code",
   "execution_count": 260,
   "metadata": {},
   "outputs": [
    {
     "data": {
      "text/plain": [
       "{'model': DecisionTreeClassifier(class_weight='balanced', criterion='entropy',\n",
       "             max_depth=7, max_features=None, max_leaf_nodes=None,\n",
       "             min_impurity_decrease=0.0, min_impurity_split=None,\n",
       "             min_samples_leaf=35, min_samples_split=2,\n",
       "             min_weight_fraction_leaf=0.0, presort=False, random_state=123,\n",
       "             splitter='best'),\n",
       " 'importances': array([4.00127474e-03, 5.02481991e-01, 2.69407082e-03, 8.62383001e-03,\n",
       "        1.27655891e-03, 6.29708875e-02, 4.16775716e-03, 8.08985057e-02,\n",
       "        4.72374066e-02, 2.63789221e-01, 1.15944432e-03, 1.65553175e-03,\n",
       "        1.91176814e-04, 2.06829096e-03, 8.24185244e-04, 1.08495019e-03,\n",
       "        3.93929142e-03, 2.22401242e-03, 2.94407632e-03, 2.03865137e-03,\n",
       "        1.95791975e-04, 9.62046199e-04, 2.23408462e-03, 3.36962753e-04]),\n",
       " 'best_score': 0.9379081934790964,\n",
       " 'best_params': {'class_weight': 'balanced',\n",
       "  'criterion': 'entropy',\n",
       "  'max_depth': 7,\n",
       "  'min_samples_leaf': 35}}"
      ]
     },
     "execution_count": 260,
     "metadata": {},
     "output_type": "execute_result"
    }
   ],
   "source": [
    "# подбор гиперпараметров для DecisionTreeClassifier, ответ = {'model','importances','best_score','best_params'}\n",
    "result_dTree_new = solve_dTree(df_X_preproc_new, y, RND_ST)\n",
    "result_dTree_new"
   ]
  },
  {
   "cell_type": "code",
   "execution_count": 262,
   "metadata": {},
   "outputs": [],
   "source": [
    "# уберем \"лишние\" характеристики из тестовой выборки\n",
    "df_X_test_preproc_new = df_X_test_preproc.drop(drop_list, axis=1)"
   ]
  },
  {
   "cell_type": "code",
   "execution_count": 264,
   "metadata": {},
   "outputs": [
    {
     "data": {
      "text/plain": [
       "array([0, 0, 0, ..., 0, 0, 0], dtype=int64)"
      ]
     },
     "execution_count": 264,
     "metadata": {},
     "output_type": "execute_result"
    }
   ],
   "source": [
    "predict_dTree_new = result_dTree_new['model'].predict(df_X_test_preproc_new) \n",
    "predict_dTree_new"
   ]
  },
  {
   "cell_type": "code",
   "execution_count": 265,
   "metadata": {},
   "outputs": [],
   "source": [
    "s_id = df_test1['_id']\n",
    "s_target_test_new = pd.Series(predict_dTree_new, index=s_id.values)\n",
    "pd.DataFrame(s_target_test_new, columns=['target']).to_csv('data/target_submission_04_dtc.csv')"
   ]
  },
  {
   "cell_type": "markdown",
   "metadata": {},
   "source": [
    "### Предсказание лучшей моделью запишем submission-файл"
   ]
  },
  {
   "cell_type": "code",
   "execution_count": 162,
   "metadata": {},
   "outputs": [],
   "source": [
    "# серия с _id\n",
    "s_id = df_test1['_id']\n",
    "# серия с решениями модели DecisionTreeClassifier\n",
    "s_target_test = pd.Series(predict_dTree, index=s_id.values)"
   ]
  },
  {
   "cell_type": "code",
   "execution_count": 159,
   "metadata": {},
   "outputs": [],
   "source": [
    "df_submission = pd.DataFrame(s_target_test, columns=['target'])"
   ]
  },
  {
   "cell_type": "code",
   "execution_count": 160,
   "metadata": {},
   "outputs": [
    {
     "data": {
      "text/html": [
       "<div>\n",
       "<style scoped>\n",
       "    .dataframe tbody tr th:only-of-type {\n",
       "        vertical-align: middle;\n",
       "    }\n",
       "\n",
       "    .dataframe tbody tr th {\n",
       "        vertical-align: top;\n",
       "    }\n",
       "\n",
       "    .dataframe thead th {\n",
       "        text-align: right;\n",
       "    }\n",
       "</style>\n",
       "<table border=\"1\" class=\"dataframe\">\n",
       "  <thead>\n",
       "    <tr style=\"text-align: right;\">\n",
       "      <th></th>\n",
       "      <th>target</th>\n",
       "    </tr>\n",
       "  </thead>\n",
       "  <tbody>\n",
       "    <tr>\n",
       "      <th>66810d8e6bf2b41c880a7bc6c8a1e295</th>\n",
       "      <td>0</td>\n",
       "    </tr>\n",
       "    <tr>\n",
       "      <th>ccac3879652b08cb8b44c1920fd93afa</th>\n",
       "      <td>0</td>\n",
       "    </tr>\n",
       "    <tr>\n",
       "      <th>fcccab4d7a76f70647f015f2c84c2af8</th>\n",
       "      <td>0</td>\n",
       "    </tr>\n",
       "    <tr>\n",
       "      <th>ed8399278c30678dab739045fa12b440</th>\n",
       "      <td>0</td>\n",
       "    </tr>\n",
       "    <tr>\n",
       "      <th>1d4d62ac5cabcb48bac7112813f290cb</th>\n",
       "      <td>0</td>\n",
       "    </tr>\n",
       "  </tbody>\n",
       "</table>\n",
       "</div>"
      ],
      "text/plain": [
       "                                  target\n",
       "66810d8e6bf2b41c880a7bc6c8a1e295       0\n",
       "ccac3879652b08cb8b44c1920fd93afa       0\n",
       "fcccab4d7a76f70647f015f2c84c2af8       0\n",
       "ed8399278c30678dab739045fa12b440       0\n",
       "1d4d62ac5cabcb48bac7112813f290cb       0"
      ]
     },
     "execution_count": 160,
     "metadata": {},
     "output_type": "execute_result"
    }
   ],
   "source": [
    "df_submission.head()"
   ]
  },
  {
   "cell_type": "code",
   "execution_count": 161,
   "metadata": {},
   "outputs": [],
   "source": [
    "df_submission.to_csv('data/target_submission_03_dtc.csv')"
   ]
  },
  {
   "cell_type": "markdown",
   "metadata": {},
   "source": [
    "#### Сравним с логистической регрессией"
   ]
  },
  {
   "cell_type": "code",
   "execution_count": 150,
   "metadata": {},
   "outputs": [],
   "source": [
    "# серия с _id\n",
    "s_id = df_test1['_id']\n",
    "s_target_test = pd.Series(predict_lReg, index=s_id.values)\n",
    "df_submission = pd.DataFrame(s_target_test, columns=['target'])\n",
    "df_submission.to_csv('data/target_submission_LR.csv')"
   ]
  },
  {
   "cell_type": "markdown",
   "metadata": {},
   "source": [
    "## Дополнительные тесты"
   ]
  },
  {
   "cell_type": "code",
   "execution_count": 133,
   "metadata": {},
   "outputs": [],
   "source": [
    "test_2_result_dTree = solve_dTree(df_X_preproc, y, RND_ST)"
   ]
  },
  {
   "cell_type": "code",
   "execution_count": 134,
   "metadata": {},
   "outputs": [
    {
     "data": {
      "text/plain": [
       "{'model': DecisionTreeClassifier(class_weight=None, criterion='gini', max_depth=5,\n",
       "             max_features=None, max_leaf_nodes=None,\n",
       "             min_impurity_decrease=0.0, min_impurity_split=None,\n",
       "             min_samples_leaf=1, min_samples_split=2,\n",
       "             min_weight_fraction_leaf=0.0, presort=False, random_state=99,\n",
       "             splitter='best'),\n",
       " 'importances': array([0.001709  , 0.49918741, 0.00126963, 0.03841651, 0.        ,\n",
       "        0.00166215, 0.0054787 , 0.03133907, 0.04284149, 0.35652204,\n",
       "        0.        , 0.        , 0.        , 0.        , 0.        ,\n",
       "        0.        , 0.        , 0.        , 0.        , 0.        ,\n",
       "        0.        , 0.        , 0.        , 0.        , 0.        ,\n",
       "        0.        , 0.        , 0.        , 0.        , 0.        ,\n",
       "        0.        , 0.        , 0.        , 0.        , 0.        ,\n",
       "        0.        , 0.        , 0.        , 0.        , 0.        ,\n",
       "        0.        , 0.        , 0.        , 0.        , 0.00328634,\n",
       "        0.        , 0.        , 0.        , 0.        , 0.        ,\n",
       "        0.        , 0.        , 0.        , 0.0136165 , 0.        ,\n",
       "        0.00149722, 0.00317395, 0.        , 0.        , 0.        ,\n",
       "        0.        , 0.        , 0.        ]),\n",
       " 'best_score': 0.9253327376970137,\n",
       " 'best_params': {'max_depth': 5}}"
      ]
     },
     "execution_count": 134,
     "metadata": {},
     "output_type": "execute_result"
    }
   ],
   "source": [
    "test_2_result_dTree"
   ]
  }
 ],
 "metadata": {
  "kernelspec": {
   "display_name": "Python 3",
   "language": "python",
   "name": "python3"
  },
  "language_info": {
   "codemirror_mode": {
    "name": "ipython",
    "version": 3
   },
   "file_extension": ".py",
   "mimetype": "text/x-python",
   "name": "python",
   "nbconvert_exporter": "python",
   "pygments_lexer": "ipython3",
   "version": "3.6.5"
  }
 },
 "nbformat": 4,
 "nbformat_minor": 2
}
